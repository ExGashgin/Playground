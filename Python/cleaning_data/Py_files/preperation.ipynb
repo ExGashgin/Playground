{
 "cells": [
  {
   "cell_type": "code",
   "execution_count": 5,
   "id": "0da0c6cd-f1dd-4f3b-86a9-ffaaad88afbd",
   "metadata": {},
   "outputs": [
    {
     "name": "stdout",
     "output_type": "stream",
     "text": [
      "[1, 2, 3, 4, 5]\n"
     ]
    }
   ],
   "source": [
    "my_list = [1, 2, 2, 3, 4, 4, 5]\n",
    "unique_list = []\n",
    "for item in my_list:\n",
    "    if item not in unique_list:\n",
    "        unique_list.append(item)\n",
    "\n",
    "print(unique_list)"
   ]
  },
  {
   "cell_type": "code",
   "execution_count": 9,
   "id": "edec8596-85b1-4cc0-a7a3-bbdaf6c039d0",
   "metadata": {},
   "outputs": [
    {
     "name": "stdout",
     "output_type": "stream",
     "text": [
      "Collecting kagglehub\n",
      "  Downloading kagglehub-0.3.12-py3-none-any.whl.metadata (38 kB)\n",
      "Requirement already satisfied: packaging in c:\\users\\n_tog\\anaconda3\\lib\\site-packages (from kagglehub) (24.1)\n",
      "Requirement already satisfied: pyyaml in c:\\users\\n_tog\\anaconda3\\lib\\site-packages (from kagglehub) (6.0.1)\n",
      "Requirement already satisfied: requests in c:\\users\\n_tog\\anaconda3\\lib\\site-packages (from kagglehub) (2.32.3)\n",
      "Requirement already satisfied: tqdm in c:\\users\\n_tog\\anaconda3\\lib\\site-packages (from kagglehub) (4.66.5)\n",
      "Requirement already satisfied: charset-normalizer<4,>=2 in c:\\users\\n_tog\\anaconda3\\lib\\site-packages (from requests->kagglehub) (3.3.2)\n",
      "Requirement already satisfied: idna<4,>=2.5 in c:\\users\\n_tog\\anaconda3\\lib\\site-packages (from requests->kagglehub) (3.7)\n",
      "Requirement already satisfied: urllib3<3,>=1.21.1 in c:\\users\\n_tog\\anaconda3\\lib\\site-packages (from requests->kagglehub) (2.2.3)\n",
      "Requirement already satisfied: certifi>=2017.4.17 in c:\\users\\n_tog\\anaconda3\\lib\\site-packages (from requests->kagglehub) (2025.1.31)\n",
      "Requirement already satisfied: colorama in c:\\users\\n_tog\\anaconda3\\lib\\site-packages (from tqdm->kagglehub) (0.4.6)\n",
      "Downloading kagglehub-0.3.12-py3-none-any.whl (67 kB)\n",
      "Installing collected packages: kagglehub\n",
      "Successfully installed kagglehub-0.3.12\n"
     ]
    }
   ],
   "source": [
    "!pip install kagglehub"
   ]
  },
  {
   "cell_type": "code",
   "execution_count": 11,
   "id": "83aa237d-d525-4a9e-ad76-22942b5ffdbc",
   "metadata": {},
   "outputs": [
    {
     "name": "stdout",
     "output_type": "stream",
     "text": [
      "Downloading from https://www.kaggle.com/api/v1/datasets/download/bharatnatrayn/movies-dataset-for-feature-extracion-prediction?dataset_version_number=1...\n"
     ]
    },
    {
     "name": "stderr",
     "output_type": "stream",
     "text": [
      "100%|█████████████████████████████████████████████████████████████████████████████| 1.05M/1.05M [00:00<00:00, 1.61MB/s]"
     ]
    },
    {
     "name": "stdout",
     "output_type": "stream",
     "text": [
      "Extracting files...\n",
      "Path to dataset files: C:\\Users\\n_tog\\.cache\\kagglehub\\datasets\\bharatnatrayn\\movies-dataset-for-feature-extracion-prediction\\versions\\1\n"
     ]
    },
    {
     "name": "stderr",
     "output_type": "stream",
     "text": [
      "\n"
     ]
    }
   ],
   "source": [
    "import kagglehub\n",
    "\n",
    "# Download latest version\n",
    "path = kagglehub.dataset_download(\"bharatnatrayn/movies-dataset-for-feature-extracion-prediction\")\n",
    "\n",
    "print(\"Path to dataset files:\", path)"
   ]
  },
  {
   "cell_type": "code",
   "execution_count": 25,
   "id": "591670df-3b30-4734-940f-fea02d6e2f32",
   "metadata": {},
   "outputs": [],
   "source": [
    "data = {'member_id': [101, 102, 103, 101, 102], 'name': ['Alice', 'Bob', 'Charlie', 'Alice', 'Bob']}\n",
    "df = pd.DataFrame(data)"
   ]
  },
  {
   "cell_type": "code",
   "execution_count": 27,
   "id": "3e3ad3b5-5edb-4942-8f75-b34ec6fe0d5d",
   "metadata": {},
   "outputs": [
    {
     "name": "stdout",
     "output_type": "stream",
     "text": [
      "   member_id     name\n",
      "0        101    Alice\n",
      "1        102      Bob\n",
      "2        103  Charlie\n"
     ]
    }
   ],
   "source": [
    "df_unique = df.drop_duplicates()\n",
    "print(df_unique)"
   ]
  },
  {
   "cell_type": "code",
   "execution_count": 73,
   "id": "8ffbeb43-a9e8-4c6d-b8b9-448a442dd9ae",
   "metadata": {},
   "outputs": [
    {
     "name": "stdout",
     "output_type": "stream",
     "text": [
      "Index(['MOVIES', 'YEAR', 'GENRE', 'RATING', 'ONE-LINE', 'STARS', 'VOTES',\n",
      "       'RunTime', 'Gross'],\n",
      "      dtype='object')\n"
     ]
    }
   ],
   "source": [
    "import pandas as pd\n",
    "das = pd.read_csv('movies.csv')\n",
    "print(das.columns)"
   ]
  },
  {
   "cell_type": "code",
   "execution_count": 95,
   "id": "252cce8b-7221-4f5f-be39-c6759772645b",
   "metadata": {},
   "outputs": [
    {
     "name": "stdout",
     "output_type": "stream",
     "text": [
      "MOVIES       0.000000\n",
      "YEAR         6.440644\n",
      "GENRE        0.800080\n",
      "RATING      18.201820\n",
      "ONE-LINE     0.000000\n",
      "STARS        0.000000\n",
      "VOTES       18.201820\n",
      "RunTime     29.582958\n",
      "Gross       95.399540\n",
      "dtype: float64\n"
     ]
    }
   ],
   "source": [
    "missing_percentage = das.isnull().sum() / len(das) * 100\n",
    "print(missing_percentage)"
   ]
  },
  {
   "cell_type": "code",
   "execution_count": 91,
   "id": "32ce9bb0-692b-4c98-a139-1f10d50e8451",
   "metadata": {},
   "outputs": [
    {
     "name": "stdout",
     "output_type": "stream",
     "text": [
      "95.3995399539954\n"
     ]
    }
   ],
   "source": [
    "missing_per = 9539 / 9999 * 100\n",
    "print(missing_per)"
   ]
  },
  {
   "cell_type": "code",
   "execution_count": 79,
   "id": "08718d0c-d490-464f-8c84-d1873d5d762a",
   "metadata": {},
   "outputs": [
    {
     "name": "stdout",
     "output_type": "stream",
     "text": [
      "9539\n"
     ]
    }
   ],
   "source": [
    "print(das['Gross'].isnull().sum())"
   ]
  },
  {
   "cell_type": "code",
   "execution_count": 105,
   "id": "9755aa15-72e9-4bf1-9f38-cec990097c22",
   "metadata": {},
   "outputs": [
    {
     "name": "stdout",
     "output_type": "stream",
     "text": [
      "644\n"
     ]
    }
   ],
   "source": [
    "null_rows = das['YEAR'].isnull().sum()\n",
    "print(null_rows)\n"
   ]
  },
  {
   "cell_type": "code",
   "execution_count": 33,
   "id": "0668214c-3a2a-4ecc-a2fc-1d6938a16f42",
   "metadata": {},
   "outputs": [
    {
     "name": "stdout",
     "output_type": "stream",
     "text": [
      "                                                 MOVIES        YEAR  \\\n",
      "77                               The Hitman's Bodyguard      (2017)   \n",
      "85                                        Jurassic Park      (1993)   \n",
      "95                                        Don't Breathe      (2016)   \n",
      "111   The Lord of the Rings: The Fellowship of the Ring      (2001)   \n",
      "125                                         Escape Room  (I) (2019)   \n",
      "...                                                 ...         ...   \n",
      "5750                           Vidal Sassoon: The Movie      (2010)   \n",
      "5770                                       Men at Lunch      (2012)   \n",
      "5835                                    Decoding Deepak      (2012)   \n",
      "6056                                     Theo Who Lived      (2016)   \n",
      "6292                                   Southern Justice      (2006)   \n",
      "\n",
      "                                          GENRE  RATING  \\\n",
      "77          \\nAction, Comedy, Crime                 6.9   \n",
      "85      \\nAction, Adventure, Sci-Fi                 8.1   \n",
      "95        \\nCrime, Horror, Thriller                 7.1   \n",
      "111      \\nAction, Adventure, Drama                 8.8   \n",
      "125     \\nAction, Adventure, Horror                 6.4   \n",
      "...                                         ...     ...   \n",
      "5750                  \\nDocumentary                 6.5   \n",
      "5770         \\nDocumentary, Mystery                 6.3   \n",
      "5835                  \\nDocumentary                 5.5   \n",
      "6056                  \\nDocumentary                 6.8   \n",
      "6292  \\nAction, Adventure, Thriller                 3.1   \n",
      "\n",
      "                                               ONE-LINE  \\\n",
      "77    \\nThe world's top bodyguard gets a new client,...   \n",
      "85    \\nA pragmatic paleontologist visiting an almos...   \n",
      "95    \\nHoping to walk away with a massive fortune, ...   \n",
      "111   \\nA meek Hobbit from the Shire and eight compa...   \n",
      "125   \\nSix strangers find themselves in a maze of d...   \n",
      "...                                                 ...   \n",
      "5750  \\nVidal Sassoon is more than just a hairdresse...   \n",
      "5770  \\nThe story of \"Lunch atop a Skyscraper,\" the ...   \n",
      "5835  \\nDeepak Chopra's son, Gotham, spends a year t...   \n",
      "6056  \\nA documentary on American journalist Theo Pa...   \n",
      "6292  \\nM.D. Selig's feature thriller, SOUTHERN JUST...   \n",
      "\n",
      "                                                  STARS      VOTES  RunTime  \\\n",
      "77    \\n    Director:\\nPatrick Hughes\\n| \\n    Stars...    205,979    118.0   \n",
      "85    \\n    Director:\\nSteven Spielberg\\n| \\n    Sta...    897,444    127.0   \n",
      "95    \\n    Director:\\nFede Alvarez\\n| \\n    Stars:\\...    237,601     88.0   \n",
      "111   \\n    Director:\\nPeter Jackson\\n| \\n    Stars:...  1,713,028    178.0   \n",
      "125   \\n    Director:\\nAdam Robitel\\n| \\n    Stars:\\...     99,351     99.0   \n",
      "...                                                 ...        ...      ...   \n",
      "5750  \\n    Director:\\nCraig Teper\\n| \\n    Stars:\\n...        245     90.0   \n",
      "5770  \\n    Director:\\nSeán Ó Cualáin\\n| \\n    Stars...        331     75.0   \n",
      "5835  \\n    Director:\\nGotham Chopra\\n| \\n    Stars:...        124     83.0   \n",
      "6056  \\n    Director:\\nDavid Schisgall\\n| \\n    Star...        111     86.0   \n",
      "6292  \\n    Director:\\nM.D. Selig\\n| \\n    Stars:\\nM...        126     96.0   \n",
      "\n",
      "         Gross  \n",
      "77     $75.47M  \n",
      "85    $402.45M  \n",
      "95     $89.22M  \n",
      "111   $315.54M  \n",
      "125    $57.01M  \n",
      "...        ...  \n",
      "5750    $0.09M  \n",
      "5770    $0.00M  \n",
      "5835    $0.01M  \n",
      "6056    $0.01M  \n",
      "6292    $0.14M  \n",
      "\n",
      "[460 rows x 9 columns]\n"
     ]
    }
   ],
   "source": [
    "das_cleaned = das.dropna()\n",
    "print(das_cleaned)"
   ]
  },
  {
   "cell_type": "code",
   "execution_count": 59,
   "id": "93a26642-bca1-467e-ba38-af88713739db",
   "metadata": {},
   "outputs": [
    {
     "name": "stdout",
     "output_type": "stream",
     "text": [
      "                                   MOVIES         YEAR  \\\n",
      "0                           Blood Red Sky       (2021)   \n",
      "1     Masters of the Universe: Revelation     (2021– )   \n",
      "2                        The Walking Dead  (2010–2022)   \n",
      "3                          Rick and Morty     (2013– )   \n",
      "4                         Army of Thieves       (2021)   \n",
      "...                                   ...          ...   \n",
      "9994                       The Imperfects     (2021– )   \n",
      "9995                               Arcane     (2021– )   \n",
      "9996                    Heart of Invictus     (2022– )   \n",
      "9997                       The Imperfects     (2021– )   \n",
      "9998                       The Imperfects     (2021– )   \n",
      "\n",
      "                                           GENRE  RATING  \\\n",
      "0         \\nAction, Horror, Thriller                 6.1   \n",
      "1     \\nAnimation, Action, Adventure                 5.0   \n",
      "2          \\nDrama, Horror, Thriller                 8.2   \n",
      "3     \\nAnimation, Adventure, Comedy                 9.2   \n",
      "4            \\nAction, Crime, Horror                 NaN   \n",
      "...                                          ...     ...   \n",
      "9994     \\nAdventure, Drama, Fantasy                 NaN   \n",
      "9995  \\nAnimation, Action, Adventure                 NaN   \n",
      "9996            \\nDocumentary, Sport                 NaN   \n",
      "9997     \\nAdventure, Drama, Fantasy                 NaN   \n",
      "9998     \\nAdventure, Drama, Fantasy                 NaN   \n",
      "\n",
      "                                               ONE-LINE  \\\n",
      "0     \\nA woman with a mysterious illness is forced ...   \n",
      "1     \\nThe war for Eternia begins again in what may...   \n",
      "2     \\nSheriff Deputy Rick Grimes wakes up from a c...   \n",
      "3     \\nAn animated series that follows the exploits...   \n",
      "4     \\nA prequel, set before the events of Army of ...   \n",
      "...                                                 ...   \n",
      "9994                                     \\nAdd a Plot\\n   \n",
      "9995                                     \\nAdd a Plot\\n   \n",
      "9996                                     \\nAdd a Plot\\n   \n",
      "9997                                     \\nAdd a Plot\\n   \n",
      "9998                                     \\nAdd a Plot\\n   \n",
      "\n",
      "                                                  STARS    VOTES  RunTime  \\\n",
      "0     \\n    Director:\\nPeter Thorwarth\\n| \\n    Star...   21,062    121.0   \n",
      "1     \\n            \\n    Stars:\\nChris Wood, \\nSara...   17,870     25.0   \n",
      "2     \\n            \\n    Stars:\\nAndrew Lincoln, \\n...  885,805     44.0   \n",
      "3     \\n            \\n    Stars:\\nJustin Roiland, \\n...  414,849     23.0   \n",
      "4     \\n    Director:\\nMatthias Schweighöfer\\n| \\n  ...      NaN      NaN   \n",
      "...                                                 ...      ...      ...   \n",
      "9994  \\n            \\n    Stars:\\nMorgan Taylor Camp...      NaN      NaN   \n",
      "9995                                                 \\n      NaN      NaN   \n",
      "9996  \\n    Director:\\nOrlando von Einsiedel\\n| \\n  ...      NaN      NaN   \n",
      "9997  \\n    Director:\\nJovanka Vuckovic\\n| \\n    Sta...      NaN      NaN   \n",
      "9998  \\n    Director:\\nJovanka Vuckovic\\n| \\n    Sta...      NaN      NaN   \n",
      "\n",
      "      Gross  \n",
      "0       NaN  \n",
      "1       NaN  \n",
      "2       NaN  \n",
      "3       NaN  \n",
      "4       NaN  \n",
      "...     ...  \n",
      "9994    NaN  \n",
      "9995    NaN  \n",
      "9996    NaN  \n",
      "9997    NaN  \n",
      "9998    NaN  \n",
      "\n",
      "[9999 rows x 9 columns]\n"
     ]
    }
   ],
   "source": [
    "das['Gross'] = pd.to_numeric(das['Gross'], errors='coerce')\n",
    "das['Gross'] = das['Gross'].fillna(das['Gross'].mean())\n",
    "print(das)"
   ]
  },
  {
   "cell_type": "code",
   "execution_count": 107,
   "id": "e7ccb69c-baae-4878-8a80-8a9a8926b627",
   "metadata": {},
   "outputs": [
    {
     "name": "stdout",
     "output_type": "stream",
     "text": [
      "                                   MOVIES  YEAR  \\\n",
      "0                           Blood Red Sky   NaN   \n",
      "1     Masters of the Universe: Revelation   NaN   \n",
      "2                        The Walking Dead   NaN   \n",
      "3                          Rick and Morty   NaN   \n",
      "4                         Army of Thieves   NaN   \n",
      "...                                   ...   ...   \n",
      "9994                       The Imperfects   NaN   \n",
      "9995                               Arcane   NaN   \n",
      "9996                    Heart of Invictus   NaN   \n",
      "9997                       The Imperfects   NaN   \n",
      "9998                       The Imperfects   NaN   \n",
      "\n",
      "                                           GENRE    RATING  \\\n",
      "0         \\nAction, Horror, Thriller              6.100000   \n",
      "1     \\nAnimation, Action, Adventure              5.000000   \n",
      "2          \\nDrama, Horror, Thriller              8.200000   \n",
      "3     \\nAnimation, Adventure, Comedy              9.200000   \n",
      "4            \\nAction, Crime, Horror              6.921176   \n",
      "...                                          ...       ...   \n",
      "9994     \\nAdventure, Drama, Fantasy              6.921176   \n",
      "9995  \\nAnimation, Action, Adventure              6.921176   \n",
      "9996            \\nDocumentary, Sport              6.921176   \n",
      "9997     \\nAdventure, Drama, Fantasy              6.921176   \n",
      "9998     \\nAdventure, Drama, Fantasy              6.921176   \n",
      "\n",
      "                                               ONE-LINE  \\\n",
      "0     \\nA woman with a mysterious illness is forced ...   \n",
      "1     \\nThe war for Eternia begins again in what may...   \n",
      "2     \\nSheriff Deputy Rick Grimes wakes up from a c...   \n",
      "3     \\nAn animated series that follows the exploits...   \n",
      "4     \\nA prequel, set before the events of Army of ...   \n",
      "...                                                 ...   \n",
      "9994                                     \\nAdd a Plot\\n   \n",
      "9995                                     \\nAdd a Plot\\n   \n",
      "9996                                     \\nAdd a Plot\\n   \n",
      "9997                                     \\nAdd a Plot\\n   \n",
      "9998                                     \\nAdd a Plot\\n   \n",
      "\n",
      "                                                  STARS      VOTES  \\\n",
      "0     \\n    Director:\\nPeter Thorwarth\\n| \\n    Star...  291.47189   \n",
      "1     \\n            \\n    Stars:\\nChris Wood, \\nSara...  291.47189   \n",
      "2     \\n            \\n    Stars:\\nAndrew Lincoln, \\n...  291.47189   \n",
      "3     \\n            \\n    Stars:\\nJustin Roiland, \\n...  291.47189   \n",
      "4     \\n    Director:\\nMatthias Schweighöfer\\n| \\n  ...  291.47189   \n",
      "...                                                 ...        ...   \n",
      "9994  \\n            \\n    Stars:\\nMorgan Taylor Camp...  291.47189   \n",
      "9995                                                 \\n  291.47189   \n",
      "9996  \\n    Director:\\nOrlando von Einsiedel\\n| \\n  ...  291.47189   \n",
      "9997  \\n    Director:\\nJovanka Vuckovic\\n| \\n    Sta...  291.47189   \n",
      "9998  \\n    Director:\\nJovanka Vuckovic\\n| \\n    Sta...  291.47189   \n",
      "\n",
      "         RunTime Gross  \n",
      "0     121.000000   NaN  \n",
      "1      25.000000   NaN  \n",
      "2      44.000000   NaN  \n",
      "3      23.000000   NaN  \n",
      "4      68.688539   NaN  \n",
      "...          ...   ...  \n",
      "9994   68.688539   NaN  \n",
      "9995   68.688539   NaN  \n",
      "9996   68.688539   NaN  \n",
      "9997   68.688539   NaN  \n",
      "9998   68.688539   NaN  \n",
      "\n",
      "[9999 rows x 9 columns]\n"
     ]
    }
   ],
   "source": [
    "das['VOTES'] = pd.to_numeric(das['VOTES'], errors='coerce')\n",
    "das['VOTES'] = das['VOTES'].fillna(das['VOTES'].mean())\n",
    "\n",
    "das['RATING'] = pd.to_numeric(das['RATING'], errors='coerce')\n",
    "das['RATING'] = das['RATING'].fillna(das['RATING'].mean())\n",
    "\n",
    "das['RunTime'] = pd.to_numeric(das['RunTime'], errors='coerce')\n",
    "das['RunTime'] = das['RunTime'].fillna(das['RunTime'].mean())\n",
    "\n",
    "das['YEAR'] = pd.to_numeric(das['YEAR'], errors='coerce')\n",
    "das['YEAR'] = das['YEAR'].fillna(das['YEAR'].mean())\n",
    "\n",
    "print(das)"
   ]
  },
  {
   "cell_type": "code",
   "execution_count": 111,
   "id": "658f2cc5-0535-4ccc-a45c-2c63d06008f1",
   "metadata": {},
   "outputs": [
    {
     "name": "stdout",
     "output_type": "stream",
     "text": [
      "                                   MOVIES  YEAR  \\\n",
      "0                           Blood Red Sky   NaN   \n",
      "1     Masters of the Universe: Revelation   NaN   \n",
      "2                        The Walking Dead   NaN   \n",
      "3                          Rick and Morty   NaN   \n",
      "4                         Army of Thieves   NaN   \n",
      "...                                   ...   ...   \n",
      "9994                       The Imperfects   NaN   \n",
      "9995                               Arcane   NaN   \n",
      "9996                    Heart of Invictus   NaN   \n",
      "9997                       The Imperfects   NaN   \n",
      "9998                       The Imperfects   NaN   \n",
      "\n",
      "                                           GENRE    RATING  \\\n",
      "0         \\nAction, Horror, Thriller              6.100000   \n",
      "1     \\nAnimation, Action, Adventure              5.000000   \n",
      "2          \\nDrama, Horror, Thriller              8.200000   \n",
      "3     \\nAnimation, Adventure, Comedy              9.200000   \n",
      "4            \\nAction, Crime, Horror              6.921176   \n",
      "...                                          ...       ...   \n",
      "9994     \\nAdventure, Drama, Fantasy              6.921176   \n",
      "9995  \\nAnimation, Action, Adventure              6.921176   \n",
      "9996            \\nDocumentary, Sport              6.921176   \n",
      "9997     \\nAdventure, Drama, Fantasy              6.921176   \n",
      "9998     \\nAdventure, Drama, Fantasy              6.921176   \n",
      "\n",
      "                                               ONE-LINE  \\\n",
      "0     \\nA woman with a mysterious illness is forced ...   \n",
      "1     \\nThe war for Eternia begins again in what may...   \n",
      "2     \\nSheriff Deputy Rick Grimes wakes up from a c...   \n",
      "3     \\nAn animated series that follows the exploits...   \n",
      "4     \\nA prequel, set before the events of Army of ...   \n",
      "...                                                 ...   \n",
      "9994                                     \\nAdd a Plot\\n   \n",
      "9995                                     \\nAdd a Plot\\n   \n",
      "9996                                     \\nAdd a Plot\\n   \n",
      "9997                                     \\nAdd a Plot\\n   \n",
      "9998                                     \\nAdd a Plot\\n   \n",
      "\n",
      "                                                  STARS      VOTES     RunTime  \n",
      "0     \\n    Director:\\nPeter Thorwarth\\n| \\n    Star...  291.47189  121.000000  \n",
      "1     \\n            \\n    Stars:\\nChris Wood, \\nSara...  291.47189   25.000000  \n",
      "2     \\n            \\n    Stars:\\nAndrew Lincoln, \\n...  291.47189   44.000000  \n",
      "3     \\n            \\n    Stars:\\nJustin Roiland, \\n...  291.47189   23.000000  \n",
      "4     \\n    Director:\\nMatthias Schweighöfer\\n| \\n  ...  291.47189   68.688539  \n",
      "...                                                 ...        ...         ...  \n",
      "9994  \\n            \\n    Stars:\\nMorgan Taylor Camp...  291.47189   68.688539  \n",
      "9995                                                 \\n  291.47189   68.688539  \n",
      "9996  \\n    Director:\\nOrlando von Einsiedel\\n| \\n  ...  291.47189   68.688539  \n",
      "9997  \\n    Director:\\nJovanka Vuckovic\\n| \\n    Sta...  291.47189   68.688539  \n",
      "9998  \\n    Director:\\nJovanka Vuckovic\\n| \\n    Sta...  291.47189   68.688539  \n",
      "\n",
      "[9999 rows x 8 columns]\n"
     ]
    }
   ],
   "source": [
    "das.drop(columns=['Gross'], inplace=True)\n",
    "print(das)"
   ]
  },
  {
   "cell_type": "code",
   "execution_count": null,
   "id": "63163b0c-d913-4ffb-b7b4-c4594f6ab65a",
   "metadata": {},
   "outputs": [],
   "source": []
  }
 ],
 "metadata": {
  "kernelspec": {
   "display_name": "Python [conda env:base] *",
   "language": "python",
   "name": "conda-base-py"
  },
  "language_info": {
   "codemirror_mode": {
    "name": "ipython",
    "version": 3
   },
   "file_extension": ".py",
   "mimetype": "text/x-python",
   "name": "python",
   "nbconvert_exporter": "python",
   "pygments_lexer": "ipython3",
   "version": "3.12.7"
  }
 },
 "nbformat": 4,
 "nbformat_minor": 5
}
